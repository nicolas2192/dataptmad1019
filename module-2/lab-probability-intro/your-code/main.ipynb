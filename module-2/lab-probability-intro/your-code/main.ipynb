{
 "cells": [
  {
   "cell_type": "markdown",
   "metadata": {},
   "source": [
    "# Introduction To Probability\n",
    "## Challenge 1\n",
    "\n",
    "A and B are events of a probability space with $(\\omega, \\sigma, P)$ such that $P(A) = 0.3$, $P(B) = 0.6$ and $P(A \\cap B) = 0.1$\n",
    "\n",
    "Which of the following statements are false?\n",
    "* $P(A \\cup B) = 0.6$\n",
    "* $P(A \\cap B^{C}) = 0.2$\n",
    "* $P(A \\cap (B \\cup B^{C})) = 0.4$\n",
    "* $P(A^{C} \\cap B^{C}) = 0.3$\n",
    "* $P((A \\cap B)^{C}) = 0.9$"
   ]
  },
  {
   "cell_type": "code",
   "execution_count": 3,
   "metadata": {},
   "outputs": [
    {
     "data": {
      "text/plain": [
       "0.7999999999999999"
      ]
     },
     "execution_count": 3,
     "metadata": {},
     "output_type": "execute_result"
    }
   ],
   "source": [
    "\"\"\"\n",
    "your solution here\n",
    "P(A and B) = P(A|B) * P(B) = P(B|A) * P(A) → P(B|A) = P(A|B) * P(B) / P(A)\n",
    "P(A∪B)=P(A)+P(B)−P(A∩B)\n",
    "\n",
    "𝑃(𝐴∪𝐵)= 0.6 -> False ---- 𝑃(𝐴∪𝐵) = 0.79999\n",
    "𝑃(𝐴∩𝐵𝐶)=0.2 -> False ---- 0.3 * 0.4 = 0.12 \n",
    "𝑃(𝐴∩(𝐵∪𝐵𝐶))=0.4 -> False ---- 0.3 * 0.76 = 0.228\n",
    "𝑃(𝐴𝐶∩𝐵𝐶)=0.3 -> False ---- 0.7 * 0.4 = 0.28\n",
    "𝑃((𝐴∩𝐵)𝐶)=0.9 -> True\n",
    "\"\"\"\n",
    "PA = 0.3\n",
    "PAc = 1 - PA\n",
    "PB = 0.6\n",
    "PBc = 1 - PB\n",
    "PAintB = 0.1\n",
    "PAunB = PA + PB - PAintB\n",
    "PAunB\n",
    "PAintBc =  "
   ]
  },
  {
   "cell_type": "markdown",
   "metadata": {},
   "source": [
    "## Challenge 2\n",
    "There is a box with 10 white balls, 12 red balls and 8 black balls. Calculate the probability of:\n",
    "* Taking a white ball out.\n",
    "* Taking a white ball out after taking a black ball out.\n",
    "* Taking a red ball out after taking a black and a red ball out.\n",
    "* Taking a red ball out after taking a black and a red ball out with reposition.\n",
    "\n",
    "**Hint**: Reposition means putting back the ball into the box after taking it out."
   ]
  },
  {
   "cell_type": "code",
   "execution_count": 33,
   "metadata": {},
   "outputs": [
    {
     "name": "stdout",
     "output_type": "stream",
     "text": [
      "Probability of getting one white ball is 0.3333333333333333\n",
      "Probability of taking a white ball given that the previous was black 0.08888888888888888\n",
      "Probability of taking a red ball given that the previous was black and previous to that red 0.042666666666666665\n",
      "Probability of taking a red ball given that the previous was black and previous to that red without reposition, P(r|b|r) 0.043349753694581286\n"
     ]
    }
   ],
   "source": [
    "\"\"\"\n",
    "your solution here\n",
    "\"\"\"\n",
    "n = 30\n",
    "w, r, b = 10, 12, 8\n",
    "# P(white ball)\n",
    "print(f\"Probability of getting one white ball is {w/n}\")\n",
    "print(f\"Probability of taking a white ball given that the previous was black {w/n * b/n}\")\n",
    "print(f\"Probability of taking a red ball given that the previous was black and previous to that red {r/n * b/n * r/n}\")\n",
    "print(f\"Probability of taking a red ball given that the previous was black and previous to that red without reposition, P(r|b|r) {r/n * b/(n-1) * (r-1)/(n-2)}\")\n"
   ]
  },
  {
   "cell_type": "markdown",
   "metadata": {},
   "source": [
    "## Challenge 3\n",
    "\n",
    "You are planning to go on a picnic today but the morning is cloudy. You hate rain so you don't know whether to go out or stay home! To help you make a decision, you gather the following data about rainy days:\n",
    "\n",
    "* 50% of all rainy days start off cloudy!\n",
    "* Cloudy mornings are common. About 40% of days start cloudy. \n",
    "* This month is usually dry so only 3 of 30 days (10%) tend to be rainy. \n",
    "\n",
    "What is the chance of rain during the day?"
   ]
  },
  {
   "cell_type": "code",
   "execution_count": 34,
   "metadata": {},
   "outputs": [
    {
     "data": {
      "text/plain": [
       "0.125"
      ]
     },
     "execution_count": 34,
     "metadata": {},
     "output_type": "execute_result"
    }
   ],
   "source": [
    "\"\"\"\n",
    "your solution here\n",
    "P(cloudy) = 0.4\n",
    "P(rain) = 0.1\n",
    "P(rain|cloudy) = ?\n",
    "P(cloudy|rain) = 0.5\n",
    "P(rain|cloudy) = P(cloudy|rain) * P(rain) / P(cloudy)\n",
    "\"\"\"\n",
    "P = 0.5 * 0.1 / 0.4\n",
    "P"
   ]
  },
  {
   "cell_type": "markdown",
   "metadata": {},
   "source": [
    "## Challenge 4\n",
    "\n",
    "One thousand people were asked through a telephone survey whether they thought more street lighting is needed at night or not.\n",
    "\n",
    "Out of the 480 men that answered the survey, 324 said yes and 156 said no. On the other hand, out of the 520 women that answered, 351 said yes and 169 said no. \n",
    "\n",
    "We wonder if men and women have a different opinions about the street lighting matter. Is gender relevant or irrelevant to the question?\n",
    "\n",
    "Consider the following events:\n",
    "- The answer is yes, so the person that answered thinks that more street lighting is needed.\n",
    "- The person who answered is a man.\n",
    "\n",
    "We want to know if these events are independent, that is, if the fact of wanting more light depends on whether one is male or female. Are these events independent or not?\n",
    "\n",
    "**Hint**: To clearly compare the answers by gender, it is best to place the data in a table."
   ]
  },
  {
   "cell_type": "code",
   "execution_count": 19,
   "metadata": {},
   "outputs": [
    {
     "data": {
      "text/html": [
       "<div>\n",
       "<style scoped>\n",
       "    .dataframe tbody tr th:only-of-type {\n",
       "        vertical-align: middle;\n",
       "    }\n",
       "\n",
       "    .dataframe tbody tr th {\n",
       "        vertical-align: top;\n",
       "    }\n",
       "\n",
       "    .dataframe thead th {\n",
       "        text-align: right;\n",
       "    }\n",
       "</style>\n",
       "<table border=\"1\" class=\"dataframe\">\n",
       "  <thead>\n",
       "    <tr style=\"text-align: right;\">\n",
       "      <th></th>\n",
       "      <th>Men</th>\n",
       "      <th>Women</th>\n",
       "      <th>Total</th>\n",
       "    </tr>\n",
       "  </thead>\n",
       "  <tbody>\n",
       "    <tr>\n",
       "      <th>Yes</th>\n",
       "      <td>324</td>\n",
       "      <td>351</td>\n",
       "      <td>675</td>\n",
       "    </tr>\n",
       "    <tr>\n",
       "      <th>No</th>\n",
       "      <td>156</td>\n",
       "      <td>169</td>\n",
       "      <td>325</td>\n",
       "    </tr>\n",
       "    <tr>\n",
       "      <th>Total</th>\n",
       "      <td>480</td>\n",
       "      <td>520</td>\n",
       "      <td>1000</td>\n",
       "    </tr>\n",
       "  </tbody>\n",
       "</table>\n",
       "</div>"
      ],
      "text/plain": [
       "       Men  Women  Total\n",
       "Yes    324    351    675\n",
       "No     156    169    325\n",
       "Total  480    520   1000"
      ]
     },
     "execution_count": 19,
     "metadata": {},
     "output_type": "execute_result"
    }
   ],
   "source": [
    "# your code here\n",
    "import pandas as pd\n",
    "df =  pd.DataFrame({\"Men\": [324, 156], \"Women\": [351, 169]}, columns=[\"Men\", \"Women\"], index=[\"Yes\", \"No\"])\n",
    "df = df.append(df.sum().rename(\"Total\"))\n",
    "df[\"Total\"] = df.sum(axis=1)\n",
    "df"
   ]
  },
  {
   "cell_type": "code",
   "execution_count": null,
   "metadata": {},
   "outputs": [],
   "source": [
    "\"\"\"\n",
    "your solution here\n",
    "We could say two events are independent if P(A|B) = P(A)\n",
    "Let A be the probability of choosing \"more light is needed\" and B the probability of randomly selecting a man.\n",
    "P(A) = 675/1000 -> 67.5%\n",
    "P(B) = 324/480 -> 67.5%\n",
    "P(A and B) = 324/1000 -> 32.4%\n",
    "P(A|B) = P(A and B) / P(B) -> 48%\n",
    "P(A|B) and P(A) are not equal, we could say that these events are dependent on each other. \n",
    "\"\"\""
   ]
  }
 ],
 "metadata": {
  "kernelspec": {
   "display_name": "Python [conda env:labs_env]",
   "language": "python",
   "name": "conda-env-labs_env-py"
  },
  "language_info": {
   "codemirror_mode": {
    "name": "ipython",
    "version": 3
   },
   "file_extension": ".py",
   "mimetype": "text/x-python",
   "name": "python",
   "nbconvert_exporter": "python",
   "pygments_lexer": "ipython3",
   "version": "3.7.5"
  }
 },
 "nbformat": 4,
 "nbformat_minor": 2
}
